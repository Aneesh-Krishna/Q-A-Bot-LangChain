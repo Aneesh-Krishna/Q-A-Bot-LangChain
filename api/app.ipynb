{
 "cells": [
  {
   "cell_type": "code",
   "execution_count": 18,
   "metadata": {},
   "outputs": [
    {
     "name": "stdout",
     "output_type": "stream",
     "text": [
      "549da347ec4e49bf9f35c292ee1b116b\n"
     ]
    }
   ],
   "source": [
    "from fastapi import FastAPI\n",
    "from langchain.prompts import ChatPromptTemplate\n",
    "# from langchain_openai import ChatOpenAI\n",
    "# from langchain.chat_models import ChatOpenAI\n",
    "from langserve import add_routes\n",
    "\n",
    "from langchain_openai import AzureChatOpenAI\n",
    "from langchain.llms import Ollama\n",
    "\n",
    "import os\n",
    "import uvicorn\n",
    "from dotenv import load_dotenv\n",
    "\n",
    "load_dotenv()\n",
    "\n",
    "os.environ[\"LANGCHAIN_API_KEY\"] = os.getenv(\"LANGCHAIN_API_KEY\")\n",
    "os.environ[\"LANGCHAIN_TRACING_V2\"] = \"true\"\n",
    "os.environ[\"AZURE_OPENAI_ENDPOINT\"] = os.getenv(\"AZURE_OPENAI_ENDPOINT\")\n",
    "os.environ[\"AZURE_OPENAI_API_KEY\"] = os.getenv(\"AZURE_OPENAI_API_KEY\")\n",
    "os.environ[\"OPENAI_API_VERSION\"] = os.getenv(\"OPENAI_API_VERSION\")\n",
    "os.environ[\"OPENAI_API_TYPE\"] = os.getenv(\"OPENAI_API_TYPE\")\n",
    "\n",
    "# print(os.getenv(\"AZURE_OPENAI_API_KEY\"))\n",
    "\n",
    "app = FastAPI(\n",
    "    title=\"Langchain Server\",\n",
    "    version=\"1.0\",\n",
    "    description=\"A Simple API Server\",\n",
    ")\n",
    "\n",
    "# add_routes(\n",
    "#     app,\n",
    "#     AzureChatOpenAI(),\n",
    "#     path=\"/azure_openai\",\n",
    "# )\n",
    "\n",
    "# Azure llm model\n",
    "model = AzureChatOpenAI(model=\"gpt-4o-mini\", temperature=0.7)\n",
    "prompt1 = ChatPromptTemplate.from_template(\"Write an essay about {topic} in 100 words.\")\n",
    "\n",
    "add_routes(\n",
    "    app,\n",
    "    prompt1|model,\n",
    "    path=\"/essay\",\n",
    ")\n",
    "\n",
    "# Ollama llm model\n",
    "llm = Ollama(model=\"mistral\")\n",
    "prompt2 = ChatPromptTemplate.from_template(\"Generate a poem on {topic} for children.\")\n",
    "\n",
    "add_routes(\n",
    "    app,\n",
    "    prompt2|llm,\n",
    "    path=\"/poem\",\n",
    ")\n",
    "\n",
    "# if __name__ == \"__main__\":\n",
    "#     uvicorn.run(app, host=\"localhost\", port=8000)"
   ]
  }
 ],
 "metadata": {
  "kernelspec": {
   "display_name": "venv",
   "language": "python",
   "name": "python3"
  },
  "language_info": {
   "codemirror_mode": {
    "name": "ipython",
    "version": 3
   },
   "file_extension": ".py",
   "mimetype": "text/x-python",
   "name": "python",
   "nbconvert_exporter": "python",
   "pygments_lexer": "ipython3",
   "version": "3.11.0"
  }
 },
 "nbformat": 4,
 "nbformat_minor": 2
}
