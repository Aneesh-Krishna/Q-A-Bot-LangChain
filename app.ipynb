{
 "cells": [
  {
   "cell_type": "code",
   "execution_count": 19,
   "metadata": {},
   "outputs": [
    {
     "name": "stderr",
     "output_type": "stream",
     "text": [
      "2025-01-29 10:35:29.020 Thread 'MainThread': missing ScriptRunContext! This warning can be ignored when running in bare mode.\n",
      "2025-01-29 10:35:29.021 Thread 'MainThread': missing ScriptRunContext! This warning can be ignored when running in bare mode.\n",
      "2025-01-29 10:35:29.021 Thread 'MainThread': missing ScriptRunContext! This warning can be ignored when running in bare mode.\n",
      "2025-01-29 10:35:29.022 Thread 'MainThread': missing ScriptRunContext! This warning can be ignored when running in bare mode.\n",
      "2025-01-29 10:35:29.022 Thread 'MainThread': missing ScriptRunContext! This warning can be ignored when running in bare mode.\n",
      "2025-01-29 10:35:29.023 Thread 'MainThread': missing ScriptRunContext! This warning can be ignored when running in bare mode.\n",
      "2025-01-29 10:35:29.025 Thread 'MainThread': missing ScriptRunContext! This warning can be ignored when running in bare mode.\n",
      "2025-01-29 10:35:29.025 Thread 'MainThread': missing ScriptRunContext! This warning can be ignored when running in bare mode.\n"
     ]
    }
   ],
   "source": [
    "from langchain_openai import AzureChatOpenAI\n",
    "from langchain_core.prompts import ChatPromptTemplate\n",
    "from langchain_core.output_parsers import StrOutputParser\n",
    "from langchain_core.messages import HumanMessage, SystemMessage, AIMessage\n",
    "\n",
    "import streamlit as st\n",
    "import os \n",
    "\n",
    "from dotenv import load_dotenv\n",
    "\n",
    "#Environment variables call\n",
    "load_dotenv()\n",
    "\n",
    "# print(os.environ.get(\"AZURE_OPENAI_ENDPOINT\"))\n",
    "\n",
    "os.environ[\"LANGCHAIN_API_KEY\"] = os.getenv(\"LANGCHAIN_API_KEY\")\n",
    "os.environ[\"AZURE_OPENAI_ENDPOINT\"] = os.getenv(\"AZURE_OPENAI_ENDPOINT\")\n",
    "os.environ[\"AZURE_OPENAI_API_KEY\"] = os.getenv(\"AZURE_OPENAI_API_KEY\")\n",
    "os.environ[\"OPENAI_API_VERSION\"] = os.getenv(\"OPENAI_API_VERSION\")\n",
    "os.environ[\"OPENAI_API_TYPE\"] = os.getenv(\"OPENAI_API_TYPE\")\n",
    "os.environ[\"LANGCHAIN_TRACING_V2\"] = \"true\"\n",
    "\n",
    "# Creating chatbot\n",
    "prompt = ChatPromptTemplate.from_messages(\n",
    "    [\n",
    "        (\"system\", \"You're a helpful assistant. Please provide responses to the queries.\"),\n",
    "        (\"user\", \"Query: {question}\")\n",
    "    ]\n",
    ")\n",
    "\n",
    "# Streamlit framework\n",
    "\n",
    "st.title(\"ChatBot using LangChain and AzureOpenAI\")\n",
    "\n",
    "# Input box\n",
    "input_text = st.text_input(\"Enter any topic you want.\")\n",
    "\n",
    "# AzureOpenAI LLM call                  \n",
    "llm = AzureChatOpenAI(model=\"gpt-4o-mini\", temperature=0.7)\n",
    "output_parser = StrOutputParser()\n",
    "\n",
    "# Chain\n",
    "chain = prompt | llm | output_parser\n",
    "\n",
    "# Invoking the model\n",
    "if input_text: \n",
    "    st.write(chain.invoke({'question': input_text}))"
   ]
  }
 ],
 "metadata": {
  "kernelspec": {
   "display_name": "Python 3",
   "language": "python",
   "name": "python3"
  },
  "language_info": {
   "codemirror_mode": {
    "name": "ipython",
    "version": 3
   },
   "file_extension": ".py",
   "mimetype": "text/x-python",
   "name": "python",
   "nbconvert_exporter": "python",
   "pygments_lexer": "ipython3",
   "version": "3.11.0"
  }
 },
 "nbformat": 4,
 "nbformat_minor": 2
}
